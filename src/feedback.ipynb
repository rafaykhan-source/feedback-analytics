{
 "cells": [
  {
   "cell_type": "code",
   "execution_count": null,
   "metadata": {},
   "outputs": [],
   "source": [
    "from wordcloud import WordCloud\n",
    "import pandas as pd\n",
    "from PIL import Image\n",
    "import numpy as np\n",
    "import matplotlib.pyplot as plt"
   ]
  },
  {
   "cell_type": "code",
   "execution_count": null,
   "metadata": {},
   "outputs": [],
   "source": [
    "df = pd.read_csv(\"../data/social_reflection_res_2022.csv\")\n",
    "df.columns"
   ]
  },
  {
   "cell_type": "code",
   "execution_count": null,
   "metadata": {},
   "outputs": [],
   "source": [
    "df = df.rename(\n",
    "    columns={\n",
    "        \"Week\": \"week\",\n",
    "        \"Event\": \"event\",\n",
    "        \"How did it go? Did you meet anyone new? Did you get to know another FSIer (or yourself!) better? Any feedback/ways to make it even MORE fun in the future?\": \"response\",\n",
    "        \"Feedback\": \"feedback\",\n",
    "        \"Improvement\": \"improvement\",\n",
    "        \"Socialize\": \"socialize\",\n",
    "    }\n",
    ")\n",
    "df.event.value_counts()"
   ]
  },
  {
   "cell_type": "code",
   "execution_count": null,
   "metadata": {},
   "outputs": [],
   "source": [
    "df[\"response\"] = df.response.str.upper()"
   ]
  },
  {
   "cell_type": "code",
   "execution_count": null,
   "metadata": {},
   "outputs": [],
   "source": [
    "pos_ice_cream = df[\n",
    "    (df[\"feedback\"] == \"Positive\") & (df[\"event\"] == \"RGS Study Break: Ice Cream\")\n",
    "]\n",
    "pos_aux = df[\n",
    "    (df[\"feedback\"] == \"Positive\") & (df[\"event\"] == \"RGS Study Break: Aux Auction!\")\n",
    "]\n",
    "trivia = df[df[\"event\"] == \"RGS Study Break: Trivia Night & Snacks!\"]"
   ]
  },
  {
   "cell_type": "code",
   "execution_count": null,
   "metadata": {},
   "outputs": [],
   "source": [
    "def generate_wordcloud(df: pd.DataFrame, title: str, mask: np.array = None) -> None:\n",
    "    stp_words = [\n",
    "        \"THE\",\n",
    "        \"TO\",\n",
    "        \"OF\",\n",
    "        \"IT\",\n",
    "        \"I\",\n",
    "        \"A\",\n",
    "        \"WAS\",\n",
    "        \"GOT\",\n",
    "        \"IN\",\n",
    "        \"AND\",\n",
    "        \"SOME\",\n",
    "        \"WITH\",\n",
    "        \"AS\",\n",
    "        \"WE\",\n",
    "        \"THIS\",\n",
    "        \"ALSO\",\n",
    "        \"AFTER\",\n",
    "        \"DID\",\n",
    "        \"BE\",\n",
    "        \"HAD\",\n",
    "        \"MY\",\n",
    "        \"GET\",\n",
    "        \"INTO\",\n",
    "        \"IS\",\n",
    "        \"ME\",\n",
    "        \"THAT\",\n",
    "        \"CAN\",\n",
    "        \"OWN\",\n",
    "        \"FOR\",\n",
    "        \"AT\",\n",
    "        \"AN\",\n",
    "        \"OUR\",\n",
    "        \"WHO\",\n",
    "        \"YES\",\n",
    "        \"DON'T\",\n",
    "        \"T\",\n",
    "        \"SO\",\n",
    "        \"MORE\",\n",
    "        \"DON\",\n",
    "        \"DIDN\",\n",
    "        \"SINCE\",\n",
    "        \"I'M\",\n",
    "        \"BECAUSE\"\n",
    "    ]\n",
    "    pos_cloud = WordCloud(\n",
    "        scale=3,\n",
    "        max_words=100,\n",
    "        colormap=\"copper\",\n",
    "        mask=mask,\n",
    "        background_color=\"white\",\n",
    "        stopwords=stp_words,\n",
    "        collocations=True,\n",
    "    ).generate(\" \".join(df[\"response\"].tolist()))\n",
    "\n",
    "    plt.figure(figsize=(10, 8))\n",
    "    plt.imshow(pos_cloud)\n",
    "    plt.axis(\"off\")\n",
    "    plt.title(title)\n",
    "    plt.show()"
   ]
  },
  {
   "cell_type": "code",
   "execution_count": null,
   "metadata": {},
   "outputs": [],
   "source": [
    "p_mask = np.array(Image.open(\"../images/princeton_p\"))"
   ]
  },
  {
   "cell_type": "code",
   "execution_count": null,
   "metadata": {},
   "outputs": [],
   "source": [
    "generate_wordcloud(\n",
    "    pos_ice_cream, \"FSI Residential 2022 RGS Ice Cream Event Positive Cloud\"\n",
    ")"
   ]
  },
  {
   "cell_type": "code",
   "execution_count": null,
   "metadata": {},
   "outputs": [],
   "source": [
    "generate_wordcloud(pos_aux, \"FSI Residential 2022 RGS Aux Auction Event Positive Cloud\")"
   ]
  },
  {
   "cell_type": "code",
   "execution_count": null,
   "metadata": {},
   "outputs": [],
   "source": [
    "generate_wordcloud(trivia, \"FSI Residential 2022 RGS Trivia & Snacks Event Cloud\")"
   ]
  }
 ],
 "metadata": {
  "kernelspec": {
   "display_name": "Python 3",
   "language": "python",
   "name": "python3"
  },
  "language_info": {
   "codemirror_mode": {
    "name": "ipython",
    "version": 3
   },
   "file_extension": ".py",
   "mimetype": "text/x-python",
   "name": "python",
   "nbconvert_exporter": "python",
   "pygments_lexer": "ipython3",
   "version": "3.10.9"
  }
 },
 "nbformat": 4,
 "nbformat_minor": 2
}
